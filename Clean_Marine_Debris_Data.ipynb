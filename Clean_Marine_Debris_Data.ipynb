{
 "cells": [
  {
   "cell_type": "markdown",
   "id": "1641054b-3216-4df0-9fc8-3a0aae4b69e2",
   "metadata": {},
   "source": [
    "The Marine Debris data file has a small issue that can cause trouble when reading the csv into a Pandas Dataframe. <br>\n",
    "This small issue is related to the \"location\" field, that sometimes is filled with the pattern \"<city>, <state>\". This can cause problems beacuse the field separator is also a comma, so to avoid errors we will genereate a new data file in this notebook replacing this kind of comma by \";\"."
   ]
  },
  {
   "cell_type": "code",
   "execution_count": 14,
   "id": "651ae49b-18c2-497d-a191-560484c87fb9",
   "metadata": {},
   "outputs": [],
   "source": [
    "import re"
   ]
  },
  {
   "cell_type": "code",
   "execution_count": 34,
   "id": "d9c036bb-d563-4247-92f3-b556f6c90e81",
   "metadata": {},
   "outputs": [],
   "source": [
    "pattern = r'(\\w|\\s|\\d)\\,(\\s*\\w|\\d)'"
   ]
  },
  {
   "cell_type": "code",
   "execution_count": 18,
   "id": "d164a94b-8b41-4d8c-b465-2cc923d736d5",
   "metadata": {},
   "outputs": [],
   "source": [
    "pattern_sub = r'\\g<1>;\\g<2>'"
   ]
  },
  {
   "cell_type": "code",
   "execution_count": 41,
   "id": "82e8e613-1812-4c2b-a43f-5af9273452be",
   "metadata": {},
   "outputs": [],
   "source": [
    "f_new = open('data/marine_debris_cleaned.csv', 'w')\n",
    "\n",
    "with open('data/marine_debris.csv', 'r') as f:\n",
    "    for i,line in enumerate(f):\n",
    "        new_line = re.sub(pattern, pattern_sub, line)\n",
    "        # if len(new_line.split(','))!=21:\n",
    "        #     print(i)\n",
    "        #     print(new_line)\n",
    "        #     print(len(new_line.split(',')))\n",
    "        #     break\n",
    "        f_new.write(new_line)"
   ]
  },
  {
   "cell_type": "markdown",
   "id": "d88e91db-f9f2-46c9-b7eb-acc76569e2b6",
   "metadata": {},
   "source": [
    "This approach does not remove all errors, but it should provide enough clean data to start working."
   ]
  }
 ],
 "metadata": {
  "kernelspec": {
   "display_name": "Python 3 (ipykernel)",
   "language": "python",
   "name": "python3"
  },
  "language_info": {
   "codemirror_mode": {
    "name": "ipython",
    "version": 3
   },
   "file_extension": ".py",
   "mimetype": "text/x-python",
   "name": "python",
   "nbconvert_exporter": "python",
   "pygments_lexer": "ipython3",
   "version": "3.9.7"
  }
 },
 "nbformat": 4,
 "nbformat_minor": 5
}
